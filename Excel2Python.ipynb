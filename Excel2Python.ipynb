{
 "cells": [
  {
   "cell_type": "markdown",
   "id": "581a2497-ba12-44b1-9d25-3feefffc4b7d",
   "metadata": {},
   "source": [
    "# Python ile Excel Veri İşleme ve Görselleştirme"
   ]
  },
  {
   "cell_type": "markdown",
   "id": "cc8e7396-11ae-44c2-9ebb-461581aa504d",
   "metadata": {},
   "source": [
    "### *Diğer bir çok yazılım dili gibi \"Nesneye Yönelik Programlama\" dilidir.\n",
    "### *En önemli özelliği \"indent\" kullanması yani girintili çıkıntılı yapısıdır."
   ]
  },
  {
   "cell_type": "raw",
   "id": "44a5f089-aafb-4bf3-9648-fa78593cbad7",
   "metadata": {},
   "source": [
    "pi = 3.14\n",
    "if pi<3.15:\n",
    "    pi = pi + 0.1\n",
    "print(pi)\n",
    "\n",
    "def greetings(name):\n",
    "    print(f'Hello, {name}')"
   ]
  },
  {
   "cell_type": "markdown",
   "id": "37c2006c-0c4e-4683-bf18-a4a39d6ff865",
   "metadata": {},
   "source": [
    "### *Kurulması gereken Python sürümü Python 3 ile devam eden sürümlerdir. Python 2 diye ayrıca farklı bir sürüm devam etmektedir."
   ]
  },
  {
   "cell_type": "code",
   "execution_count": null,
   "id": "f59b5e71-a30c-4793-bcb3-f08bca044817",
   "metadata": {},
   "outputs": [],
   "source": []
  }
 ],
 "metadata": {
  "kernelspec": {
   "display_name": "Python 3 (ipykernel)",
   "language": "python",
   "name": "python3"
  },
  "language_info": {
   "codemirror_mode": {
    "name": "ipython",
    "version": 3
   },
   "file_extension": ".py",
   "mimetype": "text/x-python",
   "name": "python",
   "nbconvert_exporter": "python",
   "pygments_lexer": "ipython3",
   "version": "3.12.4"
  }
 },
 "nbformat": 4,
 "nbformat_minor": 5
}
